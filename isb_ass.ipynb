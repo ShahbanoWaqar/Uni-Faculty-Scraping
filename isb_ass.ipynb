{
 "cells": [
  {
   "cell_type": "code",
   "execution_count": 47,
   "id": "eaf155d3",
   "metadata": {},
   "outputs": [],
   "source": [
    "import pandas as pd\n",
    "import requests\n",
    "from bs4 import BeautifulSoup\n",
    "\n",
    "from selenium import webdriver\n",
    "from selenium.webdriver.chrome.service import Service\n",
    "from selenium.webdriver.common.by import By\n",
    "from selenium.webdriver.chrome.webdriver import WebDriver\n",
    "from selenium.webdriver.support.ui import WebDriverWait\n",
    "from selenium.webdriver.support import expected_conditions as EC\n",
    "\n",
    "import time"
   ]
  },
  {
   "cell_type": "code",
   "execution_count": 66,
   "id": "797ed3e0",
   "metadata": {},
   "outputs": [],
   "source": [
    "# Read the locally saved HTML file\n",
    "with open(\"fast_nu_isb.html\", \"r\", encoding=\"utf-8\") as html_file:\n",
    "    html_content = html_file.read()\n",
    "# html_content"
   ]
  },
  {
   "cell_type": "code",
   "execution_count": 67,
   "id": "d95b9115",
   "metadata": {},
   "outputs": [],
   "source": [
    "# Create a BeautifulSoup object\n",
    "soup = BeautifulSoup(html_content, \"html.parser\")\n",
    "#print(soup.prettify())"
   ]
  },
  {
   "cell_type": "code",
   "execution_count": 89,
   "id": "c99af117",
   "metadata": {},
   "outputs": [],
   "source": [
    "chrome_path = \"/Users/shahbanowaqar/Downloads/chromedriver_mac_arm64 (1)/chromedriver\" \n",
    "chrome_options = webdriver.ChromeOptions()\n",
    "chrome_options.add_argument(\"--headless\")\n",
    "\n",
    "driver: WebDriver = webdriver.Chrome(service=Service(chrome_path), options=chrome_options)\n",
    "    \n",
    "wait = WebDriverWait(driver, 10)"
   ]
  },
  {
   "cell_type": "markdown",
   "id": "8d9b76cf",
   "metadata": {},
   "source": [
    "# Iterate for each faculty member"
   ]
  },
  {
   "cell_type": "code",
   "execution_count": 90,
   "id": "b37e6cf2",
   "metadata": {},
   "outputs": [],
   "source": [
    "id_=[]\n",
    "name=[]\n",
    "designation=[]\n",
    "phdSupervisor=[]\n",
    "email=[]\n",
    "dept=[]\n",
    "ext=[]\n",
    "img=[]\n",
    "highesteducation=[]"
   ]
  },
  {
   "cell_type": "code",
   "execution_count": 91,
   "id": "73c59692",
   "metadata": {},
   "outputs": [],
   "source": [
    "f = soup.findAll('div', class_='our-team')\n",
    "\n",
    "for i in range(len(f)):\n",
    "    faculty = f[i]\n",
    "    \n",
    "    ############################\n",
    "    facultyId = faculty.find('img')['id'][-4:]\n",
    "    facultyName = faculty.find('h3', class_='title').text.strip()\n",
    "    facultyDesignation = faculty.find('span', class_='post').text.strip()\n",
    "    facultyEmail = faculty.find('p').text\n",
    "    facultyDepartment = faculty.find_previous('div', class_='animated fadeInLeft').text\n",
    "    \n",
    "    #Faculty link\n",
    "    facultyLink = faculty.find('ul', class_='social').find_next('a')['href']\n",
    "    \n",
    "    re = requests.get(facultyLink)\n",
    "    soup2 = BeautifulSoup(re.content, 'html.parser')\n",
    "        \n",
    "    facultyExtension = None\n",
    "    p_element = soup2.findAll('p', style = 'line-height: 20px;margin-bottom: 0px;')\n",
    "    if p_element:\n",
    "        for i in range(len(p_element)):\n",
    "            ext_link = p_element[i].find('span')\n",
    "            if ext_link is not None:\n",
    "                facultyExtension = ext_link.text.split('Ext:')[-1].strip() \n",
    "        \n",
    "    facultyIMG = None  # Initialize to None\n",
    "    img_div = soup2.find('div', class_='img-thumbnail')\n",
    "    if img_div:\n",
    "        facultyIMG = 'http://isb.nu.edu.pk' + img_div.find('img')['src']\n",
    "    \n",
    "    isSupervisor = False\n",
    "    p_element = soup2.findAll('p', style = 'line-height: 20px;margin-bottom: 0px;')\n",
    "    if p_element:\n",
    "        for i in range(len(p_element)):\n",
    "            phd = p_element[i].find('label', style='font-size:9pt;')\n",
    "            if phd:\n",
    "                isSupervisor = phd.text.strip() == 'HEC Approved PhD Supervisor'\n",
    "                \n",
    "\n",
    "    ## Highest Education using Selenium\n",
    "    max_retries = 3  # Set the maximum number of retries\n",
    "\n",
    "    for retry in range(max_retries):\n",
    "        try:\n",
    "            driver.get(facultyLink)\n",
    "\n",
    "            facultyEducation = None\n",
    "            degree_name_span = driver.find_element(By.ID, 'DegreeName')\n",
    "            if degree_name_span:\n",
    "                education_items = degree_name_span.find_elements(By.TAG_NAME, 'li')\n",
    "                if education_items:\n",
    "                    facultyEducation = education_items[0].text.strip().split(',')[0]\n",
    "            break  # Exit the loop if successful\n",
    "        except Exception as e:\n",
    "#             print(f\"Error on attempt {retry + 1}: {e}\")\n",
    "            time.sleep(1)  # Add a delay before retrying\n",
    "\n",
    "\n",
    "    ##############################\n",
    "    \n",
    "    try:\n",
    "        id_.append(int(facultyId))\n",
    "    except:\n",
    "        id_.append(-1)\n",
    "        \n",
    "    name.append(facultyName)\n",
    "    designation.append(facultyDesignation)\n",
    "    phdSupervisor.append(isSupervisor)\n",
    "    email.append(facultyEmail)\n",
    "    dept.append(facultyDepartment)\n",
    "    \n",
    "    try:\n",
    "        ext.append(int(facultyExtension))\n",
    "    except:\n",
    "        ext.append(-1)\n",
    "        \n",
    "    img.append(facultyIMG)\n",
    "    highesteducation.append(facultyEducation)\n",
    "    \n",
    "# Close the WebDriver\n",
    "driver.quit()"
   ]
  },
  {
   "cell_type": "code",
   "execution_count": 92,
   "id": "f1ac0c05",
   "metadata": {},
   "outputs": [],
   "source": [
    "df = pd.DataFrame({'ID':id_,\n",
    "                   'Name':name,\n",
    "                   'Designation':designation,\n",
    "                   'HEC Approved PHD Supervisor':phdSupervisor,\n",
    "                   'Highest Education':highesteducation,\n",
    "                   'Email':email,\n",
    "                   'Department':dept,\n",
    "                   'Extension':ext,\n",
    "                   'ImageURL':img})"
   ]
  },
  {
   "cell_type": "code",
   "execution_count": 93,
   "id": "7e0f84a6",
   "metadata": {
    "scrolled": false
   },
   "outputs": [
    {
     "data": {
      "text/html": [
       "<div>\n",
       "<style scoped>\n",
       "    .dataframe tbody tr th:only-of-type {\n",
       "        vertical-align: middle;\n",
       "    }\n",
       "\n",
       "    .dataframe tbody tr th {\n",
       "        vertical-align: top;\n",
       "    }\n",
       "\n",
       "    .dataframe thead th {\n",
       "        text-align: right;\n",
       "    }\n",
       "</style>\n",
       "<table border=\"1\" class=\"dataframe\">\n",
       "  <thead>\n",
       "    <tr style=\"text-align: right;\">\n",
       "      <th></th>\n",
       "      <th>ID</th>\n",
       "      <th>Name</th>\n",
       "      <th>Designation</th>\n",
       "      <th>HEC Approved PHD Supervisor</th>\n",
       "      <th>Highest Education</th>\n",
       "      <th>Email</th>\n",
       "      <th>Department</th>\n",
       "      <th>Extension</th>\n",
       "      <th>ImageURL</th>\n",
       "    </tr>\n",
       "  </thead>\n",
       "  <tbody>\n",
       "    <tr>\n",
       "      <th>0</th>\n",
       "      <td>4553</td>\n",
       "      <td>Waseem Shahzad</td>\n",
       "      <td>Director &amp; Professor</td>\n",
       "      <td>True</td>\n",
       "      <td>None</td>\n",
       "      <td>waseem.shahzad@nu.edu.pk</td>\n",
       "      <td>Computing</td>\n",
       "      <td>101</td>\n",
       "      <td>http://isb.nu.edu.pk/Images/Profile/CS/4553.jpg</td>\n",
       "    </tr>\n",
       "    <tr>\n",
       "      <th>1</th>\n",
       "      <td>3629</td>\n",
       "      <td>Kashif Munir</td>\n",
       "      <td>Head, School of Computing &amp; Professor</td>\n",
       "      <td>True</td>\n",
       "      <td>Ph.D (Computer Science) University of Innsbruc...</td>\n",
       "      <td>kashif.munir@nu.edu.pk</td>\n",
       "      <td>Computing</td>\n",
       "      <td>626</td>\n",
       "      <td>http://isb.nu.edu.pk/Images/Profile/CS/3629202...</td>\n",
       "    </tr>\n",
       "    <tr>\n",
       "      <th>2</th>\n",
       "      <td>4400</td>\n",
       "      <td>Hammad Majeed</td>\n",
       "      <td>HoD (Computer Science) &amp; Professor</td>\n",
       "      <td>True</td>\n",
       "      <td>None</td>\n",
       "      <td>hammad.majeed@nu.edu.pk</td>\n",
       "      <td>Computing</td>\n",
       "      <td>672</td>\n",
       "      <td>http://isb.nu.edu.pk/Images/Profile/CS/4400.jpg</td>\n",
       "    </tr>\n",
       "    <tr>\n",
       "      <th>3</th>\n",
       "      <td>4551</td>\n",
       "      <td>Hasan Mujtaba Kiyani</td>\n",
       "      <td>HoD (Artificial Intelligence &amp; Data Science) &amp;...</td>\n",
       "      <td>True</td>\n",
       "      <td>Ph.D (Computer Science) National University of...</td>\n",
       "      <td>hasan.mujtaba@nu.edu.pk</td>\n",
       "      <td>Computing</td>\n",
       "      <td>508</td>\n",
       "      <td>http://isb.nu.edu.pk/Images/Profile/CS/4551.jpg</td>\n",
       "    </tr>\n",
       "    <tr>\n",
       "      <th>4</th>\n",
       "      <td>5099</td>\n",
       "      <td>Muhammad Asim</td>\n",
       "      <td>HoD (Cyber Security) &amp; Professor</td>\n",
       "      <td>True</td>\n",
       "      <td>P.hD (Computer Science) Liverpool John Moore U...</td>\n",
       "      <td>muhammad.asim@nu.edu.pk</td>\n",
       "      <td>Computing</td>\n",
       "      <td>503</td>\n",
       "      <td>http://isb.nu.edu.pk/Images/Profile/CS/5099.jpg</td>\n",
       "    </tr>\n",
       "    <tr>\n",
       "      <th>...</th>\n",
       "      <td>...</td>\n",
       "      <td>...</td>\n",
       "      <td>...</td>\n",
       "      <td>...</td>\n",
       "      <td>...</td>\n",
       "      <td>...</td>\n",
       "      <td>...</td>\n",
       "      <td>...</td>\n",
       "      <td>...</td>\n",
       "    </tr>\n",
       "    <tr>\n",
       "      <th>198</th>\n",
       "      <td>5354</td>\n",
       "      <td>Sehrish Hassan Shigri</td>\n",
       "      <td>Lecturer</td>\n",
       "      <td>False</td>\n",
       "      <td>None</td>\n",
       "      <td>sehrish.hassan@nu.edu.pk</td>\n",
       "      <td>Science &amp; Humanities</td>\n",
       "      <td>257</td>\n",
       "      <td>http://isb.nu.edu.pk/Images/Profile/SH/5354.jpg</td>\n",
       "    </tr>\n",
       "    <tr>\n",
       "      <th>199</th>\n",
       "      <td>5898</td>\n",
       "      <td>Sana Ilyas</td>\n",
       "      <td>Lecturer</td>\n",
       "      <td>False</td>\n",
       "      <td>None</td>\n",
       "      <td>sanaa.ilyas@nu.edu.pk</td>\n",
       "      <td>Science &amp; Humanities</td>\n",
       "      <td>612</td>\n",
       "      <td>http://isb.nu.edu.pk/Images/user/avatar_2x.png</td>\n",
       "    </tr>\n",
       "    <tr>\n",
       "      <th>200</th>\n",
       "      <td>5902</td>\n",
       "      <td>Zunera Malik</td>\n",
       "      <td>Lecturer</td>\n",
       "      <td>False</td>\n",
       "      <td>None</td>\n",
       "      <td>zunaira.malik@nu.edu.pk</td>\n",
       "      <td>Science &amp; Humanities</td>\n",
       "      <td>382</td>\n",
       "      <td>http://isb.nu.edu.pk/Images/user/avatar_2x.png</td>\n",
       "    </tr>\n",
       "    <tr>\n",
       "      <th>201</th>\n",
       "      <td>9341</td>\n",
       "      <td>Sadia Nauman</td>\n",
       "      <td>Lecturer</td>\n",
       "      <td>False</td>\n",
       "      <td>M.Phil (English) Government College University</td>\n",
       "      <td>sadia.nauman@nu.edu.pk</td>\n",
       "      <td>Science &amp; Humanities</td>\n",
       "      <td>532</td>\n",
       "      <td>http://isb.nu.edu.pk/Images/Profile/SH/9341.jpg</td>\n",
       "    </tr>\n",
       "    <tr>\n",
       "      <th>202</th>\n",
       "      <td>9529</td>\n",
       "      <td>Sumera Abbas</td>\n",
       "      <td>Lecturer</td>\n",
       "      <td>False</td>\n",
       "      <td>MA (English) National University of Modern Lan...</td>\n",
       "      <td>sumera.abbas@nu.edu.pk</td>\n",
       "      <td>Science &amp; Humanities</td>\n",
       "      <td>388</td>\n",
       "      <td>http://isb.nu.edu.pk/Images/Profile/SH/9529.jpg</td>\n",
       "    </tr>\n",
       "  </tbody>\n",
       "</table>\n",
       "<p>203 rows × 9 columns</p>\n",
       "</div>"
      ],
      "text/plain": [
       "       ID                   Name  \\\n",
       "0    4553         Waseem Shahzad   \n",
       "1    3629           Kashif Munir   \n",
       "2    4400          Hammad Majeed   \n",
       "3    4551   Hasan Mujtaba Kiyani   \n",
       "4    5099          Muhammad Asim   \n",
       "..    ...                    ...   \n",
       "198  5354  Sehrish Hassan Shigri   \n",
       "199  5898             Sana Ilyas   \n",
       "200  5902           Zunera Malik   \n",
       "201  9341           Sadia Nauman   \n",
       "202  9529           Sumera Abbas   \n",
       "\n",
       "                                           Designation  \\\n",
       "0                                 Director & Professor   \n",
       "1                Head, School of Computing & Professor   \n",
       "2                   HoD (Computer Science) & Professor   \n",
       "3    HoD (Artificial Intelligence & Data Science) &...   \n",
       "4                     HoD (Cyber Security) & Professor   \n",
       "..                                                 ...   \n",
       "198                                           Lecturer   \n",
       "199                                           Lecturer   \n",
       "200                                           Lecturer   \n",
       "201                                           Lecturer   \n",
       "202                                           Lecturer   \n",
       "\n",
       "     HEC Approved PHD Supervisor  \\\n",
       "0                           True   \n",
       "1                           True   \n",
       "2                           True   \n",
       "3                           True   \n",
       "4                           True   \n",
       "..                           ...   \n",
       "198                        False   \n",
       "199                        False   \n",
       "200                        False   \n",
       "201                        False   \n",
       "202                        False   \n",
       "\n",
       "                                     Highest Education  \\\n",
       "0                                                 None   \n",
       "1    Ph.D (Computer Science) University of Innsbruc...   \n",
       "2                                                 None   \n",
       "3    Ph.D (Computer Science) National University of...   \n",
       "4    P.hD (Computer Science) Liverpool John Moore U...   \n",
       "..                                                 ...   \n",
       "198                                               None   \n",
       "199                                               None   \n",
       "200                                               None   \n",
       "201     M.Phil (English) Government College University   \n",
       "202  MA (English) National University of Modern Lan...   \n",
       "\n",
       "                        Email            Department  Extension  \\\n",
       "0    waseem.shahzad@nu.edu.pk             Computing        101   \n",
       "1      kashif.munir@nu.edu.pk             Computing        626   \n",
       "2     hammad.majeed@nu.edu.pk             Computing        672   \n",
       "3    hasan.mujtaba@nu.edu.pk              Computing        508   \n",
       "4     muhammad.asim@nu.edu.pk             Computing        503   \n",
       "..                        ...                   ...        ...   \n",
       "198  sehrish.hassan@nu.edu.pk  Science & Humanities        257   \n",
       "199     sanaa.ilyas@nu.edu.pk  Science & Humanities        612   \n",
       "200   zunaira.malik@nu.edu.pk  Science & Humanities        382   \n",
       "201    sadia.nauman@nu.edu.pk  Science & Humanities        532   \n",
       "202    sumera.abbas@nu.edu.pk  Science & Humanities        388   \n",
       "\n",
       "                                              ImageURL  \n",
       "0      http://isb.nu.edu.pk/Images/Profile/CS/4553.jpg  \n",
       "1    http://isb.nu.edu.pk/Images/Profile/CS/3629202...  \n",
       "2      http://isb.nu.edu.pk/Images/Profile/CS/4400.jpg  \n",
       "3      http://isb.nu.edu.pk/Images/Profile/CS/4551.jpg  \n",
       "4      http://isb.nu.edu.pk/Images/Profile/CS/5099.jpg  \n",
       "..                                                 ...  \n",
       "198    http://isb.nu.edu.pk/Images/Profile/SH/5354.jpg  \n",
       "199     http://isb.nu.edu.pk/Images/user/avatar_2x.png  \n",
       "200     http://isb.nu.edu.pk/Images/user/avatar_2x.png  \n",
       "201    http://isb.nu.edu.pk/Images/Profile/SH/9341.jpg  \n",
       "202    http://isb.nu.edu.pk/Images/Profile/SH/9529.jpg  \n",
       "\n",
       "[203 rows x 9 columns]"
      ]
     },
     "execution_count": 93,
     "metadata": {},
     "output_type": "execute_result"
    }
   ],
   "source": [
    "df"
   ]
  },
  {
   "cell_type": "code",
   "execution_count": 73,
   "id": "54760704",
   "metadata": {},
   "outputs": [],
   "source": [
    "df.to_csv('isb.csv')"
   ]
  },
  {
   "cell_type": "code",
   "execution_count": 94,
   "id": "cf590638",
   "metadata": {},
   "outputs": [
    {
     "data": {
      "text/plain": [
       "71"
      ]
     },
     "execution_count": 94,
     "metadata": {},
     "output_type": "execute_result"
    }
   ],
   "source": [
    "df['Highest Education'].isnull().sum()"
   ]
  },
  {
   "cell_type": "markdown",
   "id": "53e4e421",
   "metadata": {},
   "source": [
    "# Test for one faculty member"
   ]
  },
  {
   "cell_type": "code",
   "execution_count": 12,
   "id": "b09b75dd",
   "metadata": {},
   "outputs": [
    {
     "name": "stdout",
     "output_type": "stream",
     "text": [
      "<div class=\"our-team\">\n",
      " <div class=\"pic\">\n",
      "  <img id=\"myImage4553\" src=\"./fast_nu_isb_files/4553.jpg\"/>\n",
      " </div>\n",
      " <div class=\"team-content\">\n",
      "  <h3 class=\"title\">\n",
      "   Waseem Shahzad\n",
      "  </h3>\n",
      "  <span class=\"post\">\n",
      "   Director &amp; Professor\n",
      "  </span>\n",
      "  <p>\n",
      "   waseem.shahzad@nu.edu.pk\n",
      "  </p>\n",
      "  <br/>\n",
      " </div>\n",
      " <ul class=\"social\">\n",
      "  <li>\n",
      "   <a href=\"http://isb.nu.edu.pk/Faculty/Details/4553\" style=\"font-style: italic;\" target=\"_blank\">\n",
      "    More...\n",
      "   </a>\n",
      "  </li>\n",
      " </ul>\n",
      "</div>\n",
      "\n"
     ]
    }
   ],
   "source": [
    "faculty = soup.findAll('div', class_='our-team')[0]\n",
    "print(faculty.prettify())"
   ]
  },
  {
   "cell_type": "code",
   "execution_count": null,
   "id": "1ea68446",
   "metadata": {},
   "outputs": [],
   "source": [
    "facultyId = faculty.find('img')['id'][-4:]\n",
    "facultyId"
   ]
  },
  {
   "cell_type": "code",
   "execution_count": null,
   "id": "d416cdb9",
   "metadata": {},
   "outputs": [],
   "source": [
    "facultyName = faculty.find('h3', class_='title').text.strip()\n",
    "facultyName"
   ]
  },
  {
   "cell_type": "code",
   "execution_count": null,
   "id": "cdfc20c5",
   "metadata": {},
   "outputs": [],
   "source": [
    "facultyDesignation = faculty.find('span', class_='post').text.strip()\n",
    "facultyDesignation"
   ]
  },
  {
   "cell_type": "code",
   "execution_count": null,
   "id": "39fcd966",
   "metadata": {},
   "outputs": [],
   "source": [
    "facultyEmail = faculty.find('p').text\n",
    "facultyEmail"
   ]
  },
  {
   "cell_type": "code",
   "execution_count": null,
   "id": "c1bfc20f",
   "metadata": {},
   "outputs": [],
   "source": [
    "facultyDepartment = faculty.find_previous('div', class_='animated fadeInLeft').text\n",
    "# pt2 = faculty.find_previous('div', class_='animated fadeInRight').text\n",
    "# facultyDepartment = pt1 + ' ' + pt2\n",
    "facultyDepartment"
   ]
  },
  {
   "cell_type": "code",
   "execution_count": 16,
   "id": "5b25bd14",
   "metadata": {},
   "outputs": [
    {
     "data": {
      "text/plain": [
       "'http://isb.nu.edu.pk/Faculty/Details/4553'"
      ]
     },
     "execution_count": 16,
     "metadata": {},
     "output_type": "execute_result"
    }
   ],
   "source": [
    "#Faculty link\n",
    "facultyLink = faculty.find('ul', class_='social').find_next('a')['href']\n",
    "facultyLink"
   ]
  },
  {
   "cell_type": "code",
   "execution_count": null,
   "id": "0dc2208e",
   "metadata": {},
   "outputs": [],
   "source": [
    "#new soup object\n",
    "re = requests.get(facultyLink)\n",
    "#if re.status_code == '200':\n",
    "soup2 = BeautifulSoup(re.content, 'html.parser')\n",
    "#soup2.find('div', class_='profile-info')"
   ]
  },
  {
   "cell_type": "code",
   "execution_count": null,
   "id": "c9f7448f",
   "metadata": {},
   "outputs": [],
   "source": [
    "# Find the <span> element with the id \"DegreeName\"\n",
    "edu = soup2.find('span', id='DegreeName').find('li').find('label')\n",
    "print(edu)\n",
    "\n",
    "# if degree_name_span:\n",
    "#     # Find all <li> elements within the <span> element\n",
    "#     education_items = degree_name_span.find_all('label')[0]\n",
    "    \n",
    "#     # Extract and print the education details\n",
    "#     for item in education_items:\n",
    "#         education_text = item.text\n",
    "        \n",
    "# education_text\n",
    "#         print(education_text)\n",
    "# else:\n",
    "#     print(\"Education information not found.\")\n"
   ]
  },
  {
   "cell_type": "code",
   "execution_count": null,
   "id": "da66b5cd",
   "metadata": {},
   "outputs": [],
   "source": [
    "facultyExtension = None\n",
    "p_element = soup2.findAll('p', style = 'line-height: 20px;margin-bottom: 0px;')\n",
    "if p_element:\n",
    "    for i in range(len(p_element)):\n",
    "        ext = p_element[i].find('span')\n",
    "    facultyExtension = ext.text.split('Ext:')[-1].strip()\n",
    "    \n",
    "facultyExtension"
   ]
  },
  {
   "cell_type": "code",
   "execution_count": null,
   "id": "a8f35376",
   "metadata": {},
   "outputs": [],
   "source": [
    "facultyIMG = None  # Initialize to None\n",
    "img_div = soup2.find('div', class_='img-thumbnail')\n",
    "if img_div:\n",
    "    facultyIMG = 'http://isb.nu.edu.pk' + img_div.find('img')['src']\n",
    "    \n",
    "facultyIMG"
   ]
  },
  {
   "cell_type": "code",
   "execution_count": null,
   "id": "8f8e4217",
   "metadata": {},
   "outputs": [],
   "source": [
    "isSupervisor = False\n",
    "p_element = soup2.findAll('p', style = 'line-height: 20px;margin-bottom: 0px;')\n",
    "if p_element:\n",
    "    for i in range(len(p_element)):\n",
    "        phd = p_element[i].find('label', style='font-size:9pt;')\n",
    "        if phd:\n",
    "            isSupervisor = phd.text.strip() == 'HEC Approved PhD Supervisor'\n",
    "\n",
    "isSupervisor\n",
    "# soup2.findAll('p', style = 'line-height: 20px;margin-bottom: 0px;')[1].find('label', style='font-size:9pt;').text.strip()"
   ]
  },
  {
   "cell_type": "code",
   "execution_count": null,
   "id": "26e1f0dc",
   "metadata": {},
   "outputs": [],
   "source": [
    "# ed = soup2.find('div', class_='form-group', id='EducationForHide')\n",
    "# if ed:\n",
    "#     span = ed.find_next('span', id='DegreeName')\n",
    "#     if span:\n",
    "#         e = span.find_next('li')\n",
    "        \n",
    "# e"
   ]
  },
  {
   "cell_type": "code",
   "execution_count": 97,
   "id": "173a7bf3",
   "metadata": {},
   "outputs": [
    {
     "data": {
      "text/plain": [
       "'MA (English) National University of Modern Languages'"
      ]
     },
     "execution_count": 97,
     "metadata": {},
     "output_type": "execute_result"
    }
   ],
   "source": [
    "\n",
    "chrome_path = \"/Users/shahbanowaqar/Downloads/chromedriver_mac_arm64 (1)/chromedriver\" \n",
    "chrome_options = webdriver.ChromeOptions()\n",
    "chrome_options.add_argument(\"--headless\")\n",
    "\n",
    "driver: WebDriver = webdriver.Chrome(service=Service(chrome_path), options=chrome_options)\n",
    "driver.get('http://isb.nu.edu.pk/Faculty/Details/4553')\n",
    "\n",
    "degree_name_span = driver.find_element(By.ID, 'DegreeName')\n",
    "if degree_name_span:\n",
    "    education_items = degree_name_span.find_elements(By.TAG_NAME, 'li')\n",
    "    if education_items:\n",
    "        facultyEducation = education_items[0].text.strip().split(',')[0]\n",
    "else:\n",
    "    facultyEducation = 'None'\n",
    "\n",
    "# Close the WebDriver\n",
    "driver.quit()\n",
    "\n",
    "facultyEducation"
   ]
  },
  {
   "cell_type": "code",
   "execution_count": null,
   "id": "0d828fb0",
   "metadata": {},
   "outputs": [],
   "source": []
  }
 ],
 "metadata": {
  "kernelspec": {
   "display_name": "Python 3 (ipykernel)",
   "language": "python",
   "name": "python3"
  },
  "language_info": {
   "codemirror_mode": {
    "name": "ipython",
    "version": 3
   },
   "file_extension": ".py",
   "mimetype": "text/x-python",
   "name": "python",
   "nbconvert_exporter": "python",
   "pygments_lexer": "ipython3",
   "version": "3.11.3"
  }
 },
 "nbformat": 4,
 "nbformat_minor": 5
}
