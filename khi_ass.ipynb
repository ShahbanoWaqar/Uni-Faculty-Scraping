{
 "cells": [
  {
   "cell_type": "code",
   "execution_count": 1,
   "id": "e3c1aa04",
   "metadata": {},
   "outputs": [],
   "source": [
    "import pandas as pd\n",
    "import requests\n",
    "from bs4 import BeautifulSoup"
   ]
  },
  {
   "cell_type": "code",
   "execution_count": 2,
   "id": "19f4dcf6",
   "metadata": {},
   "outputs": [],
   "source": [
    "# department_links=['https://khi.nu.edu.pk/faculty-php/',\n",
    "#                  'https://khi.nu.edu.pk/department-of-cyber-security/',\n",
    "#                  'https://khi.nu.edu.pk/department-of-artificial-intelligence/',\n",
    "#                  'https://khi.nu.edu.pk/department-of-software-engineering/',\n",
    "#                  'https://khi.nu.edu.pk/department-of-electrical-engineering/',\n",
    "#                  'https://khi.nu.edu.pk/department-of-management-sciences/',\n",
    "#                  'https://khi.nu.edu.pk/department-of-sciences-humanities/']\n",
    "# print(len(department_links))"
   ]
  },
  {
   "cell_type": "code",
   "execution_count": 27,
   "id": "ed4a87b4",
   "metadata": {},
   "outputs": [
    {
     "data": {
      "text/plain": [
       "['https://khi.nu.edu.pk/department-of-sciences-humanities/',\n",
       " 'https://khi.nu.edu.pk/department-of-electrical-engineering/',\n",
       " 'https://khi.nu.edu.pk/department-of-management-sciences/',\n",
       " 'https://khi.nu.edu.pk/department-of-cyber-security/',\n",
       " 'https://khi.nu.edu.pk/department-of-artificial-intelligence/',\n",
       " 'https://khi.nu.edu.pk/faculty-php/',\n",
       " 'https://khi.nu.edu.pk/department-of-software-engineering/']"
      ]
     },
     "execution_count": 27,
     "metadata": {},
     "output_type": "execute_result"
    }
   ],
   "source": [
    "url = 'https://khi.nu.edu.pk/'\n",
    "r = requests.get(url)\n",
    "soup = BeautifulSoup(r.content, 'html.parser')\n",
    "# Find all anchor elements with an 'href' attribute\n",
    "anchor_tags = soup.find_all('a', href=True)\n",
    "\n",
    "# Initialize a set to store unique links\n",
    "department_links = set()\n",
    "\n",
    "for tag in anchor_tags:\n",
    "    href = tag['href']\n",
    "    if href.startswith('https://khi.nu.edu.pk/department-of') or href.startswith('https://khi.nu.edu.pk/faculty-php/'):\n",
    "        department_links.add(href)\n",
    "        \n",
    "department_links = list(department_links)\n",
    "\n",
    "department_links"
   ]
  },
  {
   "cell_type": "markdown",
   "id": "14993d4c",
   "metadata": {},
   "source": [
    "# Iterate for each Department"
   ]
  },
  {
   "cell_type": "code",
   "execution_count": 30,
   "id": "e70c15d4",
   "metadata": {},
   "outputs": [],
   "source": [
    "id_=[]\n",
    "name=[]\n",
    "designation=[]\n",
    "phdSupervisor=[]\n",
    "email=[]\n",
    "dept=[]\n",
    "ext=[]\n",
    "img=[]\n",
    "highesteducation=[]"
   ]
  },
  {
   "cell_type": "code",
   "execution_count": 31,
   "id": "eec22ba0",
   "metadata": {
    "scrolled": false
   },
   "outputs": [],
   "source": [
    "for i in range(len(department_links)):\n",
    "    response = requests.get(department_links[i])\n",
    "    soup = BeautifulSoup(response.content, 'html.parser')\n",
    "    f = soup.findAll('div', class_='gdlr-core-personnel-list gdlr-core-outer-frame-element clearfix')\n",
    "    \n",
    "    for j in range(len(f)):\n",
    "        faculty=f[j]\n",
    "        \n",
    "        ################################\n",
    "        facultyName = faculty.find('h3', class_='gdlr-core-personnel-list-title').text.strip().split(',')[0]\n",
    "        facultyDesignation = faculty.find('div', class_='gdlr-core-personnel-list-position gdlr-core-info-font gdlr-core-skin-caption').text.strip()\n",
    "        facultyEmail = faculty.find('div', class_='kingster-personnel-info-list kingster-type-email').text.strip()\n",
    "        facultyDepartment = faculty.find_previous('h1', class_='kingster-page-title').text.strip()\n",
    "        facultyExtension = faculty.find('div', class_='kingster-personnel-info-list kingster-type-phone').text.strip()\n",
    "        \n",
    "        facultyLink = faculty.find('h3', class_='gdlr-core-personnel-list-title').find_next('a')['href']\n",
    "        \n",
    "        re = requests.get(facultyLink)\n",
    "        soup2 = BeautifulSoup(re.content, 'html.parser')\n",
    "        \n",
    "        facultyId = soup2.find('script', id='burst-js-extra').text.split(',')[1].split(':')[-1].strip(' \"')\n",
    "        \n",
    "        isSupervisor = False\n",
    "        isSupervisor = soup2.find('span', class_='gdlr-core-title-item-caption').text.strip().lower().split('\\n')[-1] == 'hec approved phd supervisor'\n",
    "        \n",
    "        #########################\n",
    "        facultyEducation = None  # Initialize to None\n",
    "\n",
    "        # Case 1\n",
    "        span = soup2.find('h3', class_='gdlr-core-title-item-title gdlr-core-skin-title', string='Education')\n",
    "        if span:\n",
    "            span2 = span.find_next('span', class_='gdlr-core-title-item-caption gdlr-core-info-font gdlr-core-skin-caption')\n",
    "            if span2:\n",
    "                facultyEducation = span2.text.split(',')[0]\n",
    "\n",
    "        # Case 2\n",
    "        if facultyEducation is None:\n",
    "            education_div = soup2.find('h3', class_='gdlr-core-title-item-title gdlr-core-skin-title', string='Education')\n",
    "            if education_div:\n",
    "                ul = education_div.find_next('ul')\n",
    "                if ul:\n",
    "                    li = ul.find_next('li')\n",
    "                    if li and li.text:\n",
    "                        facultyEducation = li.text.split(',')[0].split('from')[0]\n",
    "                        \n",
    "        # Case 3                 \n",
    "        if facultyEducation is None or 'Facebook' in facultyEducation:\n",
    "            p_class = soup2.find('h3', class_='gdlr-core-title-item-title gdlr-core-skin-title', string='Education')\n",
    "            if p_class:\n",
    "                class2 = p_class.find_next('p')\n",
    "                if class2:\n",
    "                    facultyEducation = class2.text.strip().split(',')[0]\n",
    "         ###########################           \n",
    "                    \n",
    "        facultyIMG = None  # Initialize to None\n",
    "        img_div = soup2.find('div', class_='gdlr-core-image-item-wrap')\n",
    "        if img_div:\n",
    "            img_a = img_div.find('a', class_='gdlr-core-lightgallery')\n",
    "            if img_a:\n",
    "                facultyIMG = img_a['href']\n",
    "                \n",
    "        ################################\n",
    "        \n",
    "        # Append to each list\n",
    "        \n",
    "        try:\n",
    "            id_.append(int(facultyId))\n",
    "        except:\n",
    "            id_.append(-1)\n",
    "        \n",
    "        name.append(str(facultyName))\n",
    "        designation.append(str(facultyDesignation))\n",
    "        phdSupervisor.append(bool(isSupervisor))\n",
    "        email.append(facultyEmail)\n",
    "        dept.append(str(facultyDepartment))\n",
    "\n",
    "        try:\n",
    "            ext.append(int(facultyExtension))\n",
    "        except:\n",
    "            ext.append(-1)\n",
    "\n",
    "        img.append(facultyIMG)\n",
    "        highesteducation.append(str(facultyEducation))"
   ]
  },
  {
   "cell_type": "code",
   "execution_count": 32,
   "id": "a18b9473",
   "metadata": {},
   "outputs": [],
   "source": [
    "df = pd.DataFrame({'ID':id_,\n",
    "                   'Name':name,\n",
    "                   'Designation':designation,\n",
    "                   'HEC Approved PHD Supervisor':phdSupervisor,\n",
    "                   'Highest Education':highesteducation,\n",
    "                   'Email':email,\n",
    "                   'Department':dept,\n",
    "                   'Extension':ext,\n",
    "                   'ImageURL':img})"
   ]
  },
  {
   "cell_type": "code",
   "execution_count": 33,
   "id": "fb1d2d8a",
   "metadata": {},
   "outputs": [
    {
     "data": {
      "text/html": [
       "<div>\n",
       "<style scoped>\n",
       "    .dataframe tbody tr th:only-of-type {\n",
       "        vertical-align: middle;\n",
       "    }\n",
       "\n",
       "    .dataframe tbody tr th {\n",
       "        vertical-align: top;\n",
       "    }\n",
       "\n",
       "    .dataframe thead th {\n",
       "        text-align: right;\n",
       "    }\n",
       "</style>\n",
       "<table border=\"1\" class=\"dataframe\">\n",
       "  <thead>\n",
       "    <tr style=\"text-align: right;\">\n",
       "      <th></th>\n",
       "      <th>ID</th>\n",
       "      <th>Name</th>\n",
       "      <th>Designation</th>\n",
       "      <th>HEC Approved PHD Supervisor</th>\n",
       "      <th>Highest Education</th>\n",
       "      <th>Email</th>\n",
       "      <th>Department</th>\n",
       "      <th>Extension</th>\n",
       "      <th>ImageURL</th>\n",
       "    </tr>\n",
       "  </thead>\n",
       "  <tbody>\n",
       "    <tr>\n",
       "      <th>0</th>\n",
       "      <td>7415</td>\n",
       "      <td>Dr. Syed Muhammad Fahad Riaz</td>\n",
       "      <td>Assistant Professor &amp; Incharge (SH)</td>\n",
       "      <td>True</td>\n",
       "      <td>PhD (Mathematics)</td>\n",
       "      <td>fahad.riaz@nu.edu.pk</td>\n",
       "      <td>Department of Sciences &amp; Humanities</td>\n",
       "      <td>267</td>\n",
       "      <td>https://khi.nu.edu.pk/wp-content/uploads/2023/...</td>\n",
       "    </tr>\n",
       "    <tr>\n",
       "      <th>1</th>\n",
       "      <td>7421</td>\n",
       "      <td>Dr. Khusro Mian</td>\n",
       "      <td>Associate Professor</td>\n",
       "      <td>False</td>\n",
       "      <td>PhD (Astro Phy.)</td>\n",
       "      <td>khusro.mian@nu.edu.pk</td>\n",
       "      <td>Department of Sciences &amp; Humanities</td>\n",
       "      <td>295</td>\n",
       "      <td>https://khi.nu.edu.pk/wp-content/uploads/2023/...</td>\n",
       "    </tr>\n",
       "    <tr>\n",
       "      <th>2</th>\n",
       "      <td>7429</td>\n",
       "      <td>Dr. Muhammad Shahzad Shaikh</td>\n",
       "      <td>Assistant Professor</td>\n",
       "      <td>False</td>\n",
       "      <td>PhD (Islamic Stud.)</td>\n",
       "      <td>shahzad.sheikh@nu.edu.pk</td>\n",
       "      <td>Department of Sciences &amp; Humanities</td>\n",
       "      <td>248</td>\n",
       "      <td>https://khi.nu.edu.pk/wp-content/uploads/2023/...</td>\n",
       "    </tr>\n",
       "    <tr>\n",
       "      <th>3</th>\n",
       "      <td>7433</td>\n",
       "      <td>Dr. Nazish Kanwal</td>\n",
       "      <td>Assistant Professor</td>\n",
       "      <td>False</td>\n",
       "      <td>PhD (M)</td>\n",
       "      <td>nazish.kanwal@nu.edu.pk</td>\n",
       "      <td>Department of Sciences &amp; Humanities</td>\n",
       "      <td>303</td>\n",
       "      <td>https://khi.nu.edu.pk/wp-content/uploads/2023/...</td>\n",
       "    </tr>\n",
       "    <tr>\n",
       "      <th>4</th>\n",
       "      <td>7437</td>\n",
       "      <td>Dr. Shahnawaz Muhammad Khan</td>\n",
       "      <td>Assistant Professor</td>\n",
       "      <td>False</td>\n",
       "      <td>PhD (Int. Rel.)</td>\n",
       "      <td>-</td>\n",
       "      <td>Department of Sciences &amp; Humanities</td>\n",
       "      <td>305</td>\n",
       "      <td>https://khi.nu.edu.pk/wp-content/uploads/2023/...</td>\n",
       "    </tr>\n",
       "    <tr>\n",
       "      <th>...</th>\n",
       "      <td>...</td>\n",
       "      <td>...</td>\n",
       "      <td>...</td>\n",
       "      <td>...</td>\n",
       "      <td>...</td>\n",
       "      <td>...</td>\n",
       "      <td>...</td>\n",
       "      <td>...</td>\n",
       "      <td>...</td>\n",
       "    </tr>\n",
       "    <tr>\n",
       "      <th>128</th>\n",
       "      <td>7076</td>\n",
       "      <td>Ms. Syeda Rubab</td>\n",
       "      <td>Lecturer</td>\n",
       "      <td>False</td>\n",
       "      <td>None</td>\n",
       "      <td>syeda.rubab@nu.edu.pk</td>\n",
       "      <td>Department of Software Engineering</td>\n",
       "      <td>279</td>\n",
       "      <td>https://khi.nu.edu.pk/wp-content/uploads/2023/...</td>\n",
       "    </tr>\n",
       "    <tr>\n",
       "      <th>129</th>\n",
       "      <td>7077</td>\n",
       "      <td>Mr. Minhal Raza</td>\n",
       "      <td>Lecturer</td>\n",
       "      <td>False</td>\n",
       "      <td>None</td>\n",
       "      <td>minhal.raza@nu.edu.pk</td>\n",
       "      <td>Department of Software Engineering</td>\n",
       "      <td>190</td>\n",
       "      <td>https://khi.nu.edu.pk/wp-content/uploads/2023/...</td>\n",
       "    </tr>\n",
       "    <tr>\n",
       "      <th>130</th>\n",
       "      <td>7081</td>\n",
       "      <td>Mr. Muhammad Nadeem</td>\n",
       "      <td>Instructor</td>\n",
       "      <td>False</td>\n",
       "      <td>None</td>\n",
       "      <td>muhammad.nadeem@nu.edu.pk</td>\n",
       "      <td>Department of Software Engineering</td>\n",
       "      <td>293</td>\n",
       "      <td>https://khi.nu.edu.pk/wp-content/uploads/2023/...</td>\n",
       "    </tr>\n",
       "    <tr>\n",
       "      <th>131</th>\n",
       "      <td>7082</td>\n",
       "      <td>Ms. Ayesha Ali</td>\n",
       "      <td>Instructor</td>\n",
       "      <td>False</td>\n",
       "      <td>None</td>\n",
       "      <td>ayesha.ali@nu.edu.pk</td>\n",
       "      <td>Department of Software Engineering</td>\n",
       "      <td>293</td>\n",
       "      <td>https://khi.nu.edu.pk/wp-content/uploads/2023/...</td>\n",
       "    </tr>\n",
       "    <tr>\n",
       "      <th>132</th>\n",
       "      <td>7215</td>\n",
       "      <td>Dr. Syed Muazzam Ali Shah</td>\n",
       "      <td>Assistant Professor</td>\n",
       "      <td>False</td>\n",
       "      <td>None</td>\n",
       "      <td>muazzam.ali@nu.edu.pk</td>\n",
       "      <td>Department of Software Engineering</td>\n",
       "      <td>130</td>\n",
       "      <td>https://khi.nu.edu.pk/wp-content/uploads/2023/...</td>\n",
       "    </tr>\n",
       "  </tbody>\n",
       "</table>\n",
       "<p>133 rows × 9 columns</p>\n",
       "</div>"
      ],
      "text/plain": [
       "       ID                          Name                          Designation  \\\n",
       "0    7415  Dr. Syed Muhammad Fahad Riaz  Assistant Professor & Incharge (SH)   \n",
       "1    7421               Dr. Khusro Mian                  Associate Professor   \n",
       "2    7429   Dr. Muhammad Shahzad Shaikh                  Assistant Professor   \n",
       "3    7433             Dr. Nazish Kanwal                  Assistant Professor   \n",
       "4    7437   Dr. Shahnawaz Muhammad Khan                  Assistant Professor   \n",
       "..    ...                           ...                                  ...   \n",
       "128  7076               Ms. Syeda Rubab                             Lecturer   \n",
       "129  7077               Mr. Minhal Raza                             Lecturer   \n",
       "130  7081           Mr. Muhammad Nadeem                           Instructor   \n",
       "131  7082                Ms. Ayesha Ali                           Instructor   \n",
       "132  7215     Dr. Syed Muazzam Ali Shah                  Assistant Professor   \n",
       "\n",
       "     HEC Approved PHD Supervisor    Highest Education  \\\n",
       "0                           True    PhD (Mathematics)   \n",
       "1                          False     PhD (Astro Phy.)   \n",
       "2                          False  PhD (Islamic Stud.)   \n",
       "3                          False              PhD (M)   \n",
       "4                          False      PhD (Int. Rel.)   \n",
       "..                           ...                  ...   \n",
       "128                        False                 None   \n",
       "129                        False                 None   \n",
       "130                        False                 None   \n",
       "131                        False                 None   \n",
       "132                        False                 None   \n",
       "\n",
       "                         Email                           Department  \\\n",
       "0         fahad.riaz@nu.edu.pk  Department of Sciences & Humanities   \n",
       "1        khusro.mian@nu.edu.pk  Department of Sciences & Humanities   \n",
       "2     shahzad.sheikh@nu.edu.pk  Department of Sciences & Humanities   \n",
       "3      nazish.kanwal@nu.edu.pk  Department of Sciences & Humanities   \n",
       "4                            -  Department of Sciences & Humanities   \n",
       "..                         ...                                  ...   \n",
       "128      syeda.rubab@nu.edu.pk   Department of Software Engineering   \n",
       "129      minhal.raza@nu.edu.pk   Department of Software Engineering   \n",
       "130  muhammad.nadeem@nu.edu.pk   Department of Software Engineering   \n",
       "131       ayesha.ali@nu.edu.pk   Department of Software Engineering   \n",
       "132      muazzam.ali@nu.edu.pk   Department of Software Engineering   \n",
       "\n",
       "     Extension                                           ImageURL  \n",
       "0          267  https://khi.nu.edu.pk/wp-content/uploads/2023/...  \n",
       "1          295  https://khi.nu.edu.pk/wp-content/uploads/2023/...  \n",
       "2          248  https://khi.nu.edu.pk/wp-content/uploads/2023/...  \n",
       "3          303  https://khi.nu.edu.pk/wp-content/uploads/2023/...  \n",
       "4          305  https://khi.nu.edu.pk/wp-content/uploads/2023/...  \n",
       "..         ...                                                ...  \n",
       "128        279  https://khi.nu.edu.pk/wp-content/uploads/2023/...  \n",
       "129        190  https://khi.nu.edu.pk/wp-content/uploads/2023/...  \n",
       "130        293  https://khi.nu.edu.pk/wp-content/uploads/2023/...  \n",
       "131        293  https://khi.nu.edu.pk/wp-content/uploads/2023/...  \n",
       "132        130  https://khi.nu.edu.pk/wp-content/uploads/2023/...  \n",
       "\n",
       "[133 rows x 9 columns]"
      ]
     },
     "execution_count": 33,
     "metadata": {},
     "output_type": "execute_result"
    }
   ],
   "source": [
    "df"
   ]
  },
  {
   "cell_type": "code",
   "execution_count": null,
   "id": "24497d2b",
   "metadata": {},
   "outputs": [],
   "source": [
    "df.to_csv('khi.csv')"
   ]
  },
  {
   "cell_type": "code",
   "execution_count": null,
   "id": "e9d1dc1d",
   "metadata": {},
   "outputs": [],
   "source": [
    "df.isnull().sum()"
   ]
  },
  {
   "cell_type": "code",
   "execution_count": null,
   "id": "c4606fd0",
   "metadata": {},
   "outputs": [],
   "source": [
    "df[df.ImageURL.isnull()]"
   ]
  },
  {
   "cell_type": "code",
   "execution_count": null,
   "id": "f5ae3712",
   "metadata": {},
   "outputs": [],
   "source": [
    "df[df['Highest Education'] == 'Education']"
   ]
  },
  {
   "cell_type": "markdown",
   "id": "ea51093e",
   "metadata": {},
   "source": [
    "# Test for one faculty member"
   ]
  },
  {
   "cell_type": "code",
   "execution_count": null,
   "id": "88726d63",
   "metadata": {
    "scrolled": false
   },
   "outputs": [],
   "source": [
    "response = requests.get(department_links[0])\n",
    "response"
   ]
  },
  {
   "cell_type": "code",
   "execution_count": null,
   "id": "98f4e6de",
   "metadata": {},
   "outputs": [],
   "source": [
    "soup = BeautifulSoup(response.content, 'html.parser')\n",
    "faculty = soup.findAll('div', class_='gdlr-core-personnel-list gdlr-core-outer-frame-element clearfix')[2]\n",
    "#print(faculty.prettify())"
   ]
  },
  {
   "cell_type": "code",
   "execution_count": null,
   "id": "afd4659f",
   "metadata": {},
   "outputs": [],
   "source": [
    "facultyName = faculty.find('h3', class_='gdlr-core-personnel-list-title').text.strip().split(',')[0]\n",
    "facultyName"
   ]
  },
  {
   "cell_type": "code",
   "execution_count": null,
   "id": "bc6380fd",
   "metadata": {},
   "outputs": [],
   "source": [
    "facultyDesignation = faculty.find('div', class_='gdlr-core-personnel-list-position gdlr-core-info-font gdlr-core-skin-caption').text.strip()\n",
    "facultyDesignation"
   ]
  },
  {
   "cell_type": "code",
   "execution_count": null,
   "id": "6fe37c23",
   "metadata": {},
   "outputs": [],
   "source": [
    "facultyEmail = faculty.find('div', class_='kingster-personnel-info-list kingster-type-email').text.strip()\n",
    "facultyEmail"
   ]
  },
  {
   "cell_type": "code",
   "execution_count": null,
   "id": "87eff9fe",
   "metadata": {},
   "outputs": [],
   "source": [
    "facultyDepartment = faculty.find_previous('h1', class_='kingster-page-title').text.strip()\n",
    "facultyDepartment"
   ]
  },
  {
   "cell_type": "code",
   "execution_count": null,
   "id": "56278d1a",
   "metadata": {},
   "outputs": [],
   "source": [
    "facultyExtension = faculty.find('div', class_='kingster-personnel-info-list kingster-type-phone').text.strip()\n",
    "facultyExtension"
   ]
  },
  {
   "cell_type": "code",
   "execution_count": null,
   "id": "f0295699",
   "metadata": {},
   "outputs": [],
   "source": [
    "facultyLink = faculty.find('h3', class_='gdlr-core-personnel-list-title').find_next('a')['href']\n",
    "facultyLink"
   ]
  },
  {
   "cell_type": "code",
   "execution_count": 14,
   "id": "a958fdbf",
   "metadata": {},
   "outputs": [],
   "source": [
    "re = requests.get('https://khi.nu.edu.pk/personnel/prof-dr-zulfiqar-ali-memon-phd/')\n",
    "soup2 = BeautifulSoup(re.content, 'html.parser')"
   ]
  },
  {
   "cell_type": "code",
   "execution_count": 24,
   "id": "2836ee6d",
   "metadata": {},
   "outputs": [
    {
     "data": {
      "text/plain": [
       "'6281'"
      ]
     },
     "execution_count": 24,
     "metadata": {},
     "output_type": "execute_result"
    }
   ],
   "source": [
    "facultyId = soup2.find('script', id='burst-js-extra').text.split(',')[1].split(':')[-1].strip(' \"')\n",
    "facultyId"
   ]
  },
  {
   "cell_type": "code",
   "execution_count": null,
   "id": "552a51ad",
   "metadata": {},
   "outputs": [],
   "source": [
    "facultyIMG = None  # Initialize to None\n",
    "img_div = soup2.find('div', class_='gdlr-core-image-item-wrap')\n",
    "if img_div:\n",
    "    img_a = img_div.find('a', class_='gdlr-core-lightgallery')\n",
    "    if img_a:\n",
    "        facultyIMG = img_a['href']\n",
    "facultyIMG"
   ]
  },
  {
   "cell_type": "code",
   "execution_count": null,
   "id": "35b6d31f",
   "metadata": {},
   "outputs": [],
   "source": [
    "isSupervisor = False\n",
    "isSupervisor = soup2.find('span', class_='gdlr-core-title-item-caption').text.strip().lower().split('\\n')[-1] == 'hec approved phd supervisor'\n",
    "isSupervisor"
   ]
  },
  {
   "cell_type": "code",
   "execution_count": null,
   "id": "f167647a",
   "metadata": {},
   "outputs": [],
   "source": [
    "# facultyEducation = None  # Initialize to None\n",
    "# education_div = soup2.find('h3', class_='gdlr-core-title-item-title gdlr-core-skin-title', string='Education')\n",
    "# if education_div:\n",
    "#     ul = education_div.find_next('ul')\n",
    "#     if ul:\n",
    "#         li = ul.find_next('li')\n",
    "#         if li and li.text:\n",
    "#             facultyEducation = li.text.split(',')[0]"
   ]
  },
  {
   "cell_type": "code",
   "execution_count": null,
   "id": "bd6daf93",
   "metadata": {},
   "outputs": [],
   "source": [
    "facultyEducation = None  # Initialize to None\n",
    "\n",
    "span = soup2.find('h3', class_='gdlr-core-title-item-title gdlr-core-skin-title', string='Education')\n",
    "if span:\n",
    "    span2 = span.find_next('span', class_='gdlr-core-title-item-caption gdlr-core-info-font gdlr-core-skin-caption')\n",
    "    if span2:\n",
    "        facultyEducation = span2.text.split(',')[0]\n",
    "\n",
    "if facultyEducation is None:\n",
    "    education_div = soup2.find('h3', class_='gdlr-core-title-item-title gdlr-core-skin-title', string='Education')\n",
    "    if education_div:\n",
    "        ul = education_div.find_next('ul')\n",
    "        if ul:\n",
    "            li = ul.find_next('li')\n",
    "            if li and li.text:\n",
    "                facultyEducation = li.text.split(',')[0]\n",
    "\n",
    "if facultyEducation is None or 'Facebook' in facultyEducation:\n",
    "    p_class = soup2.find('h3', class_='gdlr-core-title-item-title gdlr-core-skin-title', string='Education')\n",
    "    if p_class:\n",
    "        class2 = p_class.find_next('p')\n",
    "        if class2:\n",
    "            facultyEducation = class2.text.split(',')[0]\n",
    "            \n",
    "facultyEducation"
   ]
  },
  {
   "cell_type": "code",
   "execution_count": null,
   "id": "927181eb",
   "metadata": {},
   "outputs": [],
   "source": []
  }
 ],
 "metadata": {
  "kernelspec": {
   "display_name": "Python 3 (ipykernel)",
   "language": "python",
   "name": "python3"
  },
  "language_info": {
   "codemirror_mode": {
    "name": "ipython",
    "version": 3
   },
   "file_extension": ".py",
   "mimetype": "text/x-python",
   "name": "python",
   "nbconvert_exporter": "python",
   "pygments_lexer": "ipython3",
   "version": "3.11.3"
  }
 },
 "nbformat": 4,
 "nbformat_minor": 5
}
