{
 "cells": [
  {
   "cell_type": "code",
   "execution_count": 18,
   "id": "b10ab007",
   "metadata": {},
   "outputs": [],
   "source": [
    "import pandas as pd\n",
    "import requests\n",
    "from bs4 import BeautifulSoup"
   ]
  },
  {
   "cell_type": "code",
   "execution_count": 33,
   "id": "82a6a998",
   "metadata": {},
   "outputs": [
    {
     "name": "stdout",
     "output_type": "stream",
     "text": [
      "<Response [200]>\n"
     ]
    }
   ],
   "source": [
    "url = 'https://lhr.nu.edu.pk/faculty/'\n",
    "r = requests.get(url)\n",
    "print(r)"
   ]
  },
  {
   "cell_type": "code",
   "execution_count": 34,
   "id": "b978f2dc",
   "metadata": {},
   "outputs": [],
   "source": [
    "soup = BeautifulSoup(r.content, 'html.parser')"
   ]
  },
  {
   "cell_type": "markdown",
   "id": "8c542a8e",
   "metadata": {},
   "source": [
    "# Iterate for each faculty card"
   ]
  },
  {
   "cell_type": "code",
   "execution_count": 35,
   "id": "982a59d4",
   "metadata": {},
   "outputs": [],
   "source": [
    "id_=[]\n",
    "name=[]\n",
    "designation=[]\n",
    "phdSupervisor=[]\n",
    "email=[]\n",
    "dept=[]\n",
    "ext=[]\n",
    "img=[]\n",
    "highesteducation=[]"
   ]
  },
  {
   "cell_type": "code",
   "execution_count": 36,
   "id": "b7c1f67e",
   "metadata": {},
   "outputs": [
    {
     "data": {
      "text/plain": [
       "184"
      ]
     },
     "execution_count": 36,
     "metadata": {},
     "output_type": "execute_result"
    }
   ],
   "source": [
    "f = soup.findAll('div', class_='facultyCard')\n",
    "len(f)"
   ]
  },
  {
   "cell_type": "code",
   "execution_count": 37,
   "id": "73d411ee",
   "metadata": {},
   "outputs": [],
   "source": [
    "for i in range(len(f)):\n",
    "    faculty=f[i]\n",
    "    \n",
    "    ######################\n",
    "    facultyId = faculty.find('a', class_='faculty-link')['href'].strip('/')[-4:]\n",
    "    facultyName = faculty.find('h5', class_='text-center').text\n",
    "    facultyDesignation = faculty.find('p', class_='small').text.strip().split('\\n')[0]\n",
    "    isSupervisor = (faculty.find('p', class_='small').text.strip().split('\\n')[-1] == \n",
    "    '                          HEC Approved PhD Supervisor')\n",
    "    facultyEmail = faculty.find('p', class_='mb-0').text\n",
    "    facultyDepartment = faculty.find_previous('h1', class_='mb-2 mt-3').text.split('Faculty')[0]\n",
    "    facultyIMG = 'https://lhr.nu.edu.pk' + faculty.find('img', class_='card-img-top')['src']\n",
    "    \n",
    "    # FIND EDUCATION AND EXTENSION\n",
    "    facultyLink = 'https://lhr.nu.edu.pk' + faculty.find('a', class_='faculty-link')['href']\n",
    "        \n",
    "    re = requests.get(facultyLink)\n",
    "    soup2 = BeautifulSoup(re.content, 'html.parser')\n",
    "    \n",
    "    facultyEducation = None  # Initialize to None\n",
    "    education_div = soup2.find('div', class_='col-lg-8')\n",
    "    if education_div:\n",
    "        ul = education_div.find_next('ul')\n",
    "        if ul:\n",
    "            li = ul.find_next('li')\n",
    "            if li and li.text:\n",
    "                facultyEducation = li.text.split(',')[0]\n",
    "                \n",
    "    facultyExtension = None\n",
    "    extension_span = soup2.find('span', class_='small')\n",
    "    if extension_span:\n",
    "        facultyExtension = extension_span.text.split('Ext:')[-1]\n",
    "        \n",
    "    #######################\n",
    "    \n",
    "    ## APPEND TO EACH LIST\n",
    "    try:\n",
    "        id_.append(int(facultyId))\n",
    "    except:\n",
    "        id_.append(-1)\n",
    "        \n",
    "    name.append(str(facultyName))\n",
    "    designation.append(str(facultyDesignation))\n",
    "    phdSupervisor.append(bool(isSupervisor))\n",
    "    email.append(facultyEmail)\n",
    "    dept.append(str(facultyDepartment))\n",
    "    \n",
    "    try:\n",
    "        ext.append(int(facultyExtension))\n",
    "    except:\n",
    "        ext.append(-1)\n",
    "        \n",
    "    img.append(facultyIMG)\n",
    "    highesteducation.append(str(facultyEducation))"
   ]
  },
  {
   "cell_type": "code",
   "execution_count": 38,
   "id": "514e3bd1",
   "metadata": {},
   "outputs": [],
   "source": [
    "df = pd.DataFrame({'ID':id_,\n",
    "                   'Name':name,\n",
    "                   'Designation':designation,\n",
    "                   'HEC Approved PHD Supervisor':phdSupervisor,\n",
    "                   'Highest Education':highesteducation,\n",
    "                   'Email':email,\n",
    "                   'Department':dept,\n",
    "                   'Extension':ext,\n",
    "                   'ImageURL':img})"
   ]
  },
  {
   "cell_type": "code",
   "execution_count": 39,
   "id": "539d74d7",
   "metadata": {},
   "outputs": [
    {
     "data": {
      "text/html": [
       "<div>\n",
       "<style scoped>\n",
       "    .dataframe tbody tr th:only-of-type {\n",
       "        vertical-align: middle;\n",
       "    }\n",
       "\n",
       "    .dataframe tbody tr th {\n",
       "        vertical-align: top;\n",
       "    }\n",
       "\n",
       "    .dataframe thead th {\n",
       "        text-align: right;\n",
       "    }\n",
       "</style>\n",
       "<table border=\"1\" class=\"dataframe\">\n",
       "  <thead>\n",
       "    <tr style=\"text-align: right;\">\n",
       "      <th></th>\n",
       "      <th>ID</th>\n",
       "      <th>Name</th>\n",
       "      <th>Designation</th>\n",
       "      <th>HEC Approved PHD Supervisor</th>\n",
       "      <th>Highest Education</th>\n",
       "      <th>Email</th>\n",
       "      <th>Department</th>\n",
       "      <th>Extension</th>\n",
       "      <th>ImageURL</th>\n",
       "    </tr>\n",
       "  </thead>\n",
       "  <tbody>\n",
       "    <tr>\n",
       "      <th>0</th>\n",
       "      <td>1238</td>\n",
       "      <td>Dr. Kashif Zafar</td>\n",
       "      <td>Professor &amp; HOD</td>\n",
       "      <td>True</td>\n",
       "      <td>Ph.D(Computer Science)</td>\n",
       "      <td>kashif.zafar@nu.edu.pk</td>\n",
       "      <td>FAST School of Computing</td>\n",
       "      <td>221</td>\n",
       "      <td>https://lhr.nu.edu.pk/media/Faculty/02_-_Dr._K...</td>\n",
       "    </tr>\n",
       "    <tr>\n",
       "      <th>1</th>\n",
       "      <td>4391</td>\n",
       "      <td>Dr. Asif Mahmood Gillani</td>\n",
       "      <td>Professor</td>\n",
       "      <td>True</td>\n",
       "      <td>Ph.D(Computing)</td>\n",
       "      <td>asif.gilani@nu.edu.pk</td>\n",
       "      <td>FAST School of Computing</td>\n",
       "      <td>291</td>\n",
       "      <td>https://lhr.nu.edu.pk/media/Faculty/03_-_Dr._A...</td>\n",
       "    </tr>\n",
       "    <tr>\n",
       "      <th>2</th>\n",
       "      <td>5424</td>\n",
       "      <td>Dr. Hammad Naveed</td>\n",
       "      <td>Professor</td>\n",
       "      <td>True</td>\n",
       "      <td>Ph.D. (Bioengineering)</td>\n",
       "      <td>hammad.naveed@nu.edu.pk</td>\n",
       "      <td>FAST School of Computing</td>\n",
       "      <td>227</td>\n",
       "      <td>https://lhr.nu.edu.pk/media/Faculty/01_-_Dr._H...</td>\n",
       "    </tr>\n",
       "    <tr>\n",
       "      <th>3</th>\n",
       "      <td>4027</td>\n",
       "      <td>Dr. Aamir Wali</td>\n",
       "      <td>Associate Professor</td>\n",
       "      <td>True</td>\n",
       "      <td>PhD (CS)</td>\n",
       "      <td>aamir.wali@nu.edu.pk</td>\n",
       "      <td>FAST School of Computing</td>\n",
       "      <td>260</td>\n",
       "      <td>https://lhr.nu.edu.pk/media/Faculty/44_-_Dr._A...</td>\n",
       "    </tr>\n",
       "    <tr>\n",
       "      <th>4</th>\n",
       "      <td>6174</td>\n",
       "      <td>Dr. Arshad Ali</td>\n",
       "      <td>Associate Professor</td>\n",
       "      <td>True</td>\n",
       "      <td>PhD (CS)</td>\n",
       "      <td>arshad.ali1@nu.edu.pk</td>\n",
       "      <td>FAST School of Computing</td>\n",
       "      <td>406</td>\n",
       "      <td>https://lhr.nu.edu.pk/media/Faculty/04_-_Dr._A...</td>\n",
       "    </tr>\n",
       "    <tr>\n",
       "      <th>...</th>\n",
       "      <td>...</td>\n",
       "      <td>...</td>\n",
       "      <td>...</td>\n",
       "      <td>...</td>\n",
       "      <td>...</td>\n",
       "      <td>...</td>\n",
       "      <td>...</td>\n",
       "      <td>...</td>\n",
       "      <td>...</td>\n",
       "    </tr>\n",
       "    <tr>\n",
       "      <th>179</th>\n",
       "      <td>6420</td>\n",
       "      <td>Ms. Nokhaiz Zahra</td>\n",
       "      <td>Instructor</td>\n",
       "      <td>False</td>\n",
       "      <td>MA</td>\n",
       "      <td>nokhaiz.zahra@nu.edu.pk</td>\n",
       "      <td>Department of Science &amp; Humanities</td>\n",
       "      <td>324</td>\n",
       "      <td>https://lhr.nu.edu.pk/media/Faculty/165_-_Nokh...</td>\n",
       "    </tr>\n",
       "    <tr>\n",
       "      <th>180</th>\n",
       "      <td>6181</td>\n",
       "      <td>Ms. Rida Ahmed</td>\n",
       "      <td>Instructor</td>\n",
       "      <td>False</td>\n",
       "      <td>BS (English)</td>\n",
       "      <td>rida.ahmed@nu.edu.pk</td>\n",
       "      <td>Department of Science &amp; Humanities</td>\n",
       "      <td>363</td>\n",
       "      <td>https://lhr.nu.edu.pk/media/Faculty/6181-remov...</td>\n",
       "    </tr>\n",
       "    <tr>\n",
       "      <th>181</th>\n",
       "      <td>6555</td>\n",
       "      <td>Ms. Aqsa Naz</td>\n",
       "      <td>Lecturer (English)</td>\n",
       "      <td>False</td>\n",
       "      <td>M.Phil (English)</td>\n",
       "      <td>aqsa.naz@nu.edu.pk</td>\n",
       "      <td>Department of Science &amp; Humanities</td>\n",
       "      <td>324</td>\n",
       "      <td>https://lhr.nu.edu.pk/media/Faculty/161_-_Aqsa...</td>\n",
       "    </tr>\n",
       "    <tr>\n",
       "      <th>182</th>\n",
       "      <td>-1</td>\n",
       "      <td>Mr. Hafiz Umair Gulzar</td>\n",
       "      <td>Lecturer (Islamiat)</td>\n",
       "      <td>False</td>\n",
       "      <td>M.Phil (Islamic Studies)</td>\n",
       "      <td>umair.gulzar@nu.edu.pk</td>\n",
       "      <td>Department of Science &amp; Humanities</td>\n",
       "      <td>207</td>\n",
       "      <td>https://lhr.nu.edu.pk/media/Faculty/163_-_Hafi...</td>\n",
       "    </tr>\n",
       "    <tr>\n",
       "      <th>183</th>\n",
       "      <td>6548</td>\n",
       "      <td>Ms. Rubab Arshad</td>\n",
       "      <td>Lecturer (English)</td>\n",
       "      <td>False</td>\n",
       "      <td>MS (Applied Linguistics)</td>\n",
       "      <td>rubab.arshad@nu.edu.pk</td>\n",
       "      <td>Department of Science &amp; Humanities</td>\n",
       "      <td>286</td>\n",
       "      <td>https://lhr.nu.edu.pk/media/Faculty/162_-_Ruba...</td>\n",
       "    </tr>\n",
       "  </tbody>\n",
       "</table>\n",
       "<p>184 rows × 9 columns</p>\n",
       "</div>"
      ],
      "text/plain": [
       "       ID                      Name          Designation  \\\n",
       "0    1238          Dr. Kashif Zafar      Professor & HOD   \n",
       "1    4391  Dr. Asif Mahmood Gillani            Professor   \n",
       "2    5424         Dr. Hammad Naveed            Professor   \n",
       "3    4027            Dr. Aamir Wali  Associate Professor   \n",
       "4    6174            Dr. Arshad Ali  Associate Professor   \n",
       "..    ...                       ...                  ...   \n",
       "179  6420         Ms. Nokhaiz Zahra           Instructor   \n",
       "180  6181            Ms. Rida Ahmed           Instructor   \n",
       "181  6555              Ms. Aqsa Naz   Lecturer (English)   \n",
       "182    -1    Mr. Hafiz Umair Gulzar  Lecturer (Islamiat)   \n",
       "183  6548          Ms. Rubab Arshad   Lecturer (English)   \n",
       "\n",
       "     HEC Approved PHD Supervisor          Highest Education  \\\n",
       "0                           True     Ph.D(Computer Science)   \n",
       "1                           True            Ph.D(Computing)   \n",
       "2                           True     Ph.D. (Bioengineering)   \n",
       "3                           True                   PhD (CS)   \n",
       "4                           True                   PhD (CS)   \n",
       "..                           ...                        ...   \n",
       "179                        False                         MA   \n",
       "180                        False               BS (English)   \n",
       "181                        False           M.Phil (English)   \n",
       "182                        False   M.Phil (Islamic Studies)   \n",
       "183                        False   MS (Applied Linguistics)   \n",
       "\n",
       "                       Email                           Department  Extension  \\\n",
       "0     kashif.zafar@nu.edu.pk            FAST School of Computing         221   \n",
       "1      asif.gilani@nu.edu.pk            FAST School of Computing         291   \n",
       "2    hammad.naveed@nu.edu.pk            FAST School of Computing         227   \n",
       "3       aamir.wali@nu.edu.pk            FAST School of Computing         260   \n",
       "4      arshad.ali1@nu.edu.pk            FAST School of Computing         406   \n",
       "..                       ...                                  ...        ...   \n",
       "179  nokhaiz.zahra@nu.edu.pk  Department of Science & Humanities         324   \n",
       "180     rida.ahmed@nu.edu.pk  Department of Science & Humanities         363   \n",
       "181       aqsa.naz@nu.edu.pk  Department of Science & Humanities         324   \n",
       "182   umair.gulzar@nu.edu.pk  Department of Science & Humanities         207   \n",
       "183   rubab.arshad@nu.edu.pk  Department of Science & Humanities         286   \n",
       "\n",
       "                                              ImageURL  \n",
       "0    https://lhr.nu.edu.pk/media/Faculty/02_-_Dr._K...  \n",
       "1    https://lhr.nu.edu.pk/media/Faculty/03_-_Dr._A...  \n",
       "2    https://lhr.nu.edu.pk/media/Faculty/01_-_Dr._H...  \n",
       "3    https://lhr.nu.edu.pk/media/Faculty/44_-_Dr._A...  \n",
       "4    https://lhr.nu.edu.pk/media/Faculty/04_-_Dr._A...  \n",
       "..                                                 ...  \n",
       "179  https://lhr.nu.edu.pk/media/Faculty/165_-_Nokh...  \n",
       "180  https://lhr.nu.edu.pk/media/Faculty/6181-remov...  \n",
       "181  https://lhr.nu.edu.pk/media/Faculty/161_-_Aqsa...  \n",
       "182  https://lhr.nu.edu.pk/media/Faculty/163_-_Hafi...  \n",
       "183  https://lhr.nu.edu.pk/media/Faculty/162_-_Ruba...  \n",
       "\n",
       "[184 rows x 9 columns]"
      ]
     },
     "execution_count": 39,
     "metadata": {},
     "output_type": "execute_result"
    }
   ],
   "source": [
    "df"
   ]
  },
  {
   "cell_type": "code",
   "execution_count": 40,
   "id": "5afd357d",
   "metadata": {},
   "outputs": [],
   "source": [
    "df.to_csv('lhr.csv')"
   ]
  },
  {
   "cell_type": "code",
   "execution_count": null,
   "id": "ad2841b0",
   "metadata": {},
   "outputs": [],
   "source": [
    "# df['HEC Approved PHD Supervisor'].value_counts()"
   ]
  },
  {
   "cell_type": "code",
   "execution_count": null,
   "id": "5111900e",
   "metadata": {},
   "outputs": [],
   "source": [
    "# df[df['Highest Education'].isnull()]"
   ]
  },
  {
   "cell_type": "code",
   "execution_count": null,
   "id": "46e633b4",
   "metadata": {},
   "outputs": [],
   "source": [
    "# df.duplicated()"
   ]
  },
  {
   "cell_type": "markdown",
   "id": "e6c0bdb7",
   "metadata": {},
   "source": [
    "# Testing for one faculty card"
   ]
  },
  {
   "cell_type": "code",
   "execution_count": 10,
   "id": "fd098c2d",
   "metadata": {
    "scrolled": true
   },
   "outputs": [
    {
     "data": {
      "text/plain": [
       "<div class=\"card facultyCard card-br-0 ml-0 mr-0 pb-0\">\n",
       "<div class=\"facultyImage\">\n",
       "<img class=\"card-img-top rounded-circle mt-3 mb-0 d-block mx-auto\" src=\"/media/Faculty/02_-_Dr._Kashif_Zafar_Prof__HoD_CS.png\"/>\n",
       "</div>\n",
       "<div class=\"card-body pr-0 pl-0 pb-0\">\n",
       "<h5 class=\"text-center\">Dr. Kashif Zafar</h5>\n",
       "<p class=\"small text-center font-italic\">Professor &amp; HOD\n",
       "                        \n",
       "                         <br> HEC Approved PhD Supervisor \n",
       "                        \n",
       "                        </br></p>\n",
       "<p class=\"mb-0 text-center\">kashif.zafar@nu.edu.pk</p>\n",
       "<!--  <p class=\"mt-0 small text-center\">ext no: 221</p> -->\n",
       "<a class=\"faculty-link\" href=\"/fsc/facultyProfile/1238\"></a>\n",
       "</div>\n",
       "</div>"
      ]
     },
     "execution_count": 10,
     "metadata": {},
     "output_type": "execute_result"
    }
   ],
   "source": [
    "faculty = soup.findAll('div', class_='facultyCard')[0]\n",
    "faculty"
   ]
  },
  {
   "cell_type": "code",
   "execution_count": 11,
   "id": "c5a9f796",
   "metadata": {},
   "outputs": [],
   "source": [
    "facultyId = faculty.find('a', class_='faculty-link')['href'].strip('/')[-4:]"
   ]
  },
  {
   "cell_type": "code",
   "execution_count": 12,
   "id": "4c868c43",
   "metadata": {},
   "outputs": [],
   "source": [
    "facultyName = faculty.find('h5', class_='text-center').text"
   ]
  },
  {
   "cell_type": "code",
   "execution_count": 13,
   "id": "2f886eb3",
   "metadata": {},
   "outputs": [],
   "source": [
    "facultyDesignation = faculty.find('p', class_='small').text.strip().split('\\n')[0]"
   ]
  },
  {
   "cell_type": "code",
   "execution_count": 14,
   "id": "a8580a48",
   "metadata": {},
   "outputs": [],
   "source": [
    "isSupervisor = (faculty.find('p', class_='small').text.strip().split('\\n')[-1] == \n",
    "'                          HEC Approved PhD Supervisor')\n",
    "#isSupervisor"
   ]
  },
  {
   "cell_type": "code",
   "execution_count": 15,
   "id": "dd3b9dd8",
   "metadata": {},
   "outputs": [],
   "source": [
    "# facultyEmail = faculty.find('p', class_='mb-0').text"
   ]
  },
  {
   "cell_type": "code",
   "execution_count": 17,
   "id": "b394a8e3",
   "metadata": {},
   "outputs": [
    {
     "data": {
      "text/plain": [
       "'FAST School of Computing '"
      ]
     },
     "execution_count": 17,
     "metadata": {},
     "output_type": "execute_result"
    }
   ],
   "source": [
    "department = faculty.find_previous('h1', class_='mb-2 mt-3').text.split('Faculty')[0]\n",
    "department"
   ]
  },
  {
   "cell_type": "code",
   "execution_count": 12,
   "id": "b4c27f71",
   "metadata": {},
   "outputs": [],
   "source": [
    "# facultyLink = 'https://lhr.nu.edu.pk' + faculty.find('a', class_='faculty-link')['href']"
   ]
  },
  {
   "cell_type": "code",
   "execution_count": 13,
   "id": "bdf09738",
   "metadata": {},
   "outputs": [],
   "source": [
    "# facultyIMG = 'https://lhr.nu.edu.pk' + faculty.find('img', class_='card-img-top')['src']"
   ]
  },
  {
   "cell_type": "code",
   "execution_count": 14,
   "id": "afd0e468",
   "metadata": {},
   "outputs": [],
   "source": [
    "# profile_url=facultyLink\n",
    "# re = requests.get(profile_url)\n",
    "# soup = BeautifulSoup(re.content, 'html.parser')\n",
    "# soup.find('div', class_='col-lg-8').find_next('ul').find_next('li').text.split(',')[0]"
   ]
  },
  {
   "cell_type": "code",
   "execution_count": 15,
   "id": "43d46c2a",
   "metadata": {},
   "outputs": [],
   "source": [
    "# re = requests.get(facultyLink)\n",
    "# soup3 = BeautifulSoup(re.content, 'html.parser')\n",
    "# int(soup3.find('span', class_='small').text.split('Ext:')[-1])"
   ]
  },
  {
   "cell_type": "markdown",
   "id": "fc809e95",
   "metadata": {},
   "source": [
    "## Profile page to extract highest education"
   ]
  },
  {
   "cell_type": "code",
   "execution_count": 4,
   "id": "010e9516",
   "metadata": {},
   "outputs": [],
   "source": [
    "# def highest_edu(profile_url):\n",
    "#     re = requests.get(profile_url)\n",
    "#     soup = BeautifulSoup(re.content, 'html.parser')\n",
    "#     high_ed = soup.find('div', class_='col-lg-8')\n",
    "    \n",
    "#     # Check if the element was found\n",
    "#     if high_ed:\n",
    "#         ul = high_ed.find_next('ul')\n",
    "        \n",
    "#         # Check if the <ul> tag was found\n",
    "#         if ul:\n",
    "#             li = ul.find_next('li')\n",
    "            \n",
    "#             # Check if the <li> tag was found\n",
    "#             if li and li.text:\n",
    "#                 return li.text.split(',')[0]\n",
    "    \n",
    "#     # Return a default value (or None) if any part of the extraction fails\n",
    "#     return None"
   ]
  }
 ],
 "metadata": {
  "kernelspec": {
   "display_name": "Python 3 (ipykernel)",
   "language": "python",
   "name": "python3"
  },
  "language_info": {
   "codemirror_mode": {
    "name": "ipython",
    "version": 3
   },
   "file_extension": ".py",
   "mimetype": "text/x-python",
   "name": "python",
   "nbconvert_exporter": "python",
   "pygments_lexer": "ipython3",
   "version": "3.11.3"
  }
 },
 "nbformat": 4,
 "nbformat_minor": 5
}
